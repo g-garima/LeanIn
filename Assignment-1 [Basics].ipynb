{
 "cells": [
  {
   "cell_type": "markdown",
   "metadata": {},
   "source": [
    "                                            SESSION-2\n",
    "                                        PYTHON ASSIGNMENT\n",
    "        \n",
    "        \n",
    "                                                                                                GARIMA\n",
    "                                                                                                CSE1\n",
    "                                                                                                IGDTUW\n",
    "        \n"
   ]
  },
  {
   "cell_type": "markdown",
   "metadata": {},
   "source": [
    "Q1.)Write a function that returns the maximum of two numbers#       "
   ]
  },
  {
   "cell_type": "code",
   "execution_count": 27,
   "metadata": {},
   "outputs": [],
   "source": [
    "def maxi(a,b):\n",
    "    if a>b:\n",
    "        print(\"Maximum number=\",a)\n",
    "    elif b>a:\n",
    "        print(\"Maximum number=\",b)\n",
    "    else :\n",
    "        print(\"Numbers entered are equal\")"
   ]
  },
  {
   "cell_type": "code",
   "execution_count": 28,
   "metadata": {},
   "outputs": [
    {
     "name": "stdout",
     "output_type": "stream",
     "text": [
      "Maximum number= 4\n"
     ]
    }
   ],
   "source": [
    "maxi(3,4)"
   ]
  },
  {
   "cell_type": "markdown",
   "metadata": {},
   "source": [
    "Q2.)Write a function called fizz_buzz that takes a number.\n",
    "• If the number is divisible by 3, it should return “Fizz”.\n",
    "• If it is divisible by 5, it should return “Buzz”.\n",
    "• If it is divisible by both 3 and 5, it should return “FizzBuzz”.\n",
    "• Otherwise, it should return the same number."
   ]
  },
  {
   "cell_type": "code",
   "execution_count": 29,
   "metadata": {},
   "outputs": [],
   "source": [
    "def fizz_buzz(n):\n",
    "    if n%3==0 and n%5==0:\n",
    "        print(\"FIzzBuzz\")\n",
    "    elif n%3==0:\n",
    "        print(\"Fizz\")\n",
    "    elif n%5==0:\n",
    "        print(\"Buzz\")\n",
    "    else :\n",
    "        print(n)"
   ]
  },
  {
   "cell_type": "code",
   "execution_count": 30,
   "metadata": {},
   "outputs": [
    {
     "name": "stdout",
     "output_type": "stream",
     "text": [
      "FIzzBuzz\n"
     ]
    }
   ],
   "source": [
    "fizz_buzz(45)"
   ]
  },
  {
   "cell_type": "markdown",
   "metadata": {},
   "source": [
    "Q3.)Write a function for checking the speed of drivers. This function should have one\n",
    "parameter: speed.\n",
    "• If speed is less than 70, it should print “Ok”.\n",
    "• Otherwise, for every 5km above the speed limit (70), it should give the driver one demerit point and   print the total number of demerit points. For example, if the speed is 80, it should print: “Points:   2”.\n",
    "• If the driver gets more than 12 points, the function should print: “License suspended”"
   ]
  },
  {
   "cell_type": "code",
   "execution_count": 31,
   "metadata": {},
   "outputs": [],
   "source": [
    "def check_speed(speed):\n",
    "    if speed<70:\n",
    "        print(\"Ok\")\n",
    "    else:\n",
    "        demerit=(speed-70)//5\n",
    "        print(\"Demerit point:\",demerit)\n",
    "        if demerit>12:\n",
    "            print(\"License suspended\")"
   ]
  },
  {
   "cell_type": "code",
   "execution_count": 32,
   "metadata": {},
   "outputs": [
    {
     "name": "stdout",
     "output_type": "stream",
     "text": [
      "Demerit point: 2\n"
     ]
    }
   ],
   "source": [
    "check_speed(80)"
   ]
  },
  {
   "cell_type": "markdown",
   "metadata": {},
   "source": [
    "Q4.)Write a function called showNumbers that takes a parameter called limit. It\n",
    "should print all the numbers between 0 and limit with a label to identify the even\n",
    "and odd numbers. For example, if the limit is 3, it should print:\n",
    "• 0 EVEN\n",
    "• 1 ODD\n",
    "• 2 EVEN\n",
    "• 3 ODD"
   ]
  },
  {
   "cell_type": "code",
   "execution_count": 33,
   "metadata": {},
   "outputs": [],
   "source": [
    "def showNumbers(limit):\n",
    "    for i in range(0,limit+1):\n",
    "        if i%2==0:\n",
    "            print(i,\"EVEN\")\n",
    "        else:\n",
    "            print(i,\"ODD\")"
   ]
  },
  {
   "cell_type": "code",
   "execution_count": 34,
   "metadata": {},
   "outputs": [
    {
     "name": "stdout",
     "output_type": "stream",
     "text": [
      "0 EVEN\n",
      "1 ODD\n",
      "2 EVEN\n",
      "3 ODD\n"
     ]
    }
   ],
   "source": [
    "showNumbers(3)"
   ]
  },
  {
   "cell_type": "markdown",
   "metadata": {},
   "source": [
    "Q5.)Write a function that returns the sum of multiples of 3 and 5 between 0\n",
    "and limit (parameter). For example, if limit is 20, it should return the sum of 3, 5,\n",
    "6, 9, 10, 12, 15, 18, 20."
   ]
  },
  {
   "cell_type": "code",
   "execution_count": 35,
   "metadata": {},
   "outputs": [],
   "source": [
    "def multi3_5(limit):\n",
    "    sum1=0\n",
    "    for i in range(0,limit+1):\n",
    "        if i%3==0 or i%5==0:\n",
    "            sum1=sum1+i\n",
    "    print(\"Sum of multiples of 3 and 5=\",sum1)    "
   ]
  },
  {
   "cell_type": "code",
   "execution_count": 36,
   "metadata": {},
   "outputs": [
    {
     "name": "stdout",
     "output_type": "stream",
     "text": [
      "Sum of multiples of 3 and 5= 98\n"
     ]
    }
   ],
   "source": [
    "multi3_5(20)"
   ]
  }
 ],
 "metadata": {
  "kernelspec": {
   "display_name": "Python 3",
   "language": "python",
   "name": "python3"
  },
  "language_info": {
   "codemirror_mode": {
    "name": "ipython",
    "version": 3
   },
   "file_extension": ".py",
   "mimetype": "text/x-python",
   "name": "python",
   "nbconvert_exporter": "python",
   "pygments_lexer": "ipython3",
   "version": "3.7.1"
  }
 },
 "nbformat": 4,
 "nbformat_minor": 2
}
