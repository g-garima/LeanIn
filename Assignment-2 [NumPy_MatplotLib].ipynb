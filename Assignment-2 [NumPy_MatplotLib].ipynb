{
 "cells": [
  {
   "cell_type": "markdown",
   "metadata": {},
   "source": [
    "Ques 1.)Write a NumPy program to create an array of 10 zeros,10 ones, 10 fives. Write a\n",
    "NumPy program to create an array of the integers from 30 to70."
   ]
  },
  {
   "cell_type": "code",
   "execution_count": 5,
   "metadata": {},
   "outputs": [
    {
     "name": "stdout",
     "output_type": "stream",
     "text": [
      "An array of 10 zeros: [0. 0. 0. 0. 0. 0. 0. 0. 0. 0.]\n",
      "An array of 10 ones: [1. 1. 1. 1. 1. 1. 1. 1. 1. 1.]\n",
      "An array of 10 fives: [5. 5. 5. 5. 5. 5. 5. 5. 5. 5.]\n",
      "Array of the integers from 30 to70: [30 31 32 33 34 35 36 37 38 39 40 41 42 43 44 45 46 47 48 49 50 51 52 53\n",
      " 54 55 56 57 58 59 60 61 62 63 64 65 66 67 68 69 70]\n"
     ]
    }
   ],
   "source": [
    "import numpy as np\n",
    "arr0=np.zeros(10)\n",
    "print(\"An array of 10 zeros:\",arr0)\n",
    "arr10=np.ones(10)\n",
    "print(\"An array of 10 ones:\",arr10)\n",
    "arr5=np.ones(10)*5\n",
    "print(\"An array of 10 fives:\",arr5)\n",
    "array=np.arange(30,71)\n",
    "print(\"Array of the integers from 30 to70:\",array)\n"
   ]
  },
  {
   "cell_type": "markdown",
   "metadata": {},
   "source": [
    "Ques 2.)Write a NumPy program to create a vector with values ranging from 15 to 55 and\n",
    "print all values except the first and last."
   ]
  },
  {
   "cell_type": "code",
   "execution_count": 6,
   "metadata": {},
   "outputs": [
    {
     "name": "stdout",
     "output_type": "stream",
     "text": [
      "Original vector:\n",
      "[15 16 17 18 19 20 21 22 23 24 25 26 27 28 29 30 31 32 33 34 35 36 37 38\n",
      " 39 40 41 42 43 44 45 46 47 48 49 50 51 52 53 54]\n",
      "All values except the first and last of the said vector:\n",
      "[16 17 18 19 20 21 22 23 24 25 26 27 28 29 30 31 32 33 34 35 36 37 38 39\n",
      " 40 41 42 43 44 45 46 47 48 49 50 51 52 53]\n"
     ]
    }
   ],
   "source": [
    "import numpy as np\n",
    "v = np.arange(15,55)\n",
    "print(\"Original vector:\")\n",
    "print(v)\n",
    "print(\"All values except the first and last of the said vector:\")\n",
    "print(v[1:-1])"
   ]
  },
  {
   "cell_type": "markdown",
   "metadata": {},
   "source": [
    "Ques 3.)Write a NumPy program to create a vector with values from 0 to 20 and change the\n",
    "sign of the numbers in the range from 9 to 15."
   ]
  },
  {
   "cell_type": "code",
   "execution_count": 9,
   "metadata": {},
   "outputs": [
    {
     "name": "stdout",
     "output_type": "stream",
     "text": [
      "Vector: [ 0  1  2  3  4  5  6  7  8  9 10 11 12 13 14 15 16 17 18 19 20]\n",
      "Changing the sign of numbers from 9 to 15: [  0   1   2   3   4   5   6   7   8  -9 -10 -11 -12 -13 -14 -15  16  17\n",
      "  18  19  20]\n"
     ]
    }
   ],
   "source": [
    "import numpy as np\n",
    "v= np.arange(21)\n",
    "print(\"Vector:\",v)\n",
    "v[(v>=9) & (v<=15)]*= -1\n",
    "print(\"Changing the sign of numbers from 9 to 15:\",v)"
   ]
  },
  {
   "cell_type": "markdown",
   "metadata": {},
   "source": [
    "Ques 4.)Write a NumPy program to compute the x and y coordinates for points on a sine\n",
    "curve and plot the points using matplotlib."
   ]
  },
  {
   "cell_type": "code",
   "execution_count": 11,
   "metadata": {},
   "outputs": [
    {
     "name": "stdout",
     "output_type": "stream",
     "text": [
      "Ploting the points\n"
     ]
    },
    {
     "data": {
      "image/png": "[encoded data removed]",
      "text/plain": [
       "<Figure size 432x288 with 1 Axes>"
      ]
     },
     "metadata": {
      "needs_background": "light"
     },
     "output_type": "display_data"
    }
   ],
   "source": [
    "import numpy as np\n",
    "import matplotlib.pyplot as plt\n",
    "x = np.arange(0,3*np.pi,0.2)\n",
    "y = np.sin(x)\n",
    "print(\"Ploting the points\")\n",
    "plt.plot(x, y)\n",
    "plt.show()"
   ]
  },
  {
   "cell_type": "markdown",
   "metadata": {},
   "source": [
    "Ques 5.)Write a NumPy program to create a random 10x4 array and extract the first five\n",
    "rows of the array and store them into a variable."
   ]
  },
  {
   "cell_type": "code",
   "execution_count": 17,
   "metadata": {},
   "outputs": [
    {
     "name": "stdout",
     "output_type": "stream",
     "text": [
      "Original array: \n",
      "[[0.51046286 0.25064229 0.52953687 0.4358997 ]\n",
      " [0.65733431 0.39400838 0.19967423 0.50343756]\n",
      " [0.88131182 0.12607732 0.25807735 0.85160675]\n",
      " [0.05020272 0.67433065 0.05610153 0.84692535]\n",
      " [0.83850521 0.59801634 0.01149349 0.98201578]\n",
      " [0.35120766 0.7442104  0.9406608  0.4591564 ]\n",
      " [0.18850077 0.60257325 0.67323905 0.92504966]\n",
      " [0.78788399 0.1704484  0.62109441 0.31288092]\n",
      " [0.9744487  0.02960188 0.06281116 0.71506482]\n",
      " [0.2152379  0.47475919 0.56144144 0.37329124]]\n",
      "First 5 rows of the above array:\n",
      "[[0.51046286 0.25064229 0.52953687 0.4358997 ]\n",
      " [0.65733431 0.39400838 0.19967423 0.50343756]\n",
      " [0.88131182 0.12607732 0.25807735 0.85160675]\n",
      " [0.05020272 0.67433065 0.05610153 0.84692535]\n",
      " [0.83850521 0.59801634 0.01149349 0.98201578]]\n"
     ]
    }
   ],
   "source": [
    "import numpy as np\n",
    "x = np.random.rand(10, 4)\n",
    "print(\"Original array: \")\n",
    "print(x)\n",
    "y= x[:5,:]\n",
    "print(\"First 5 rows of the above array:\")\n",
    "print(y)"
   ]
  },
  {
   "cell_type": "markdown",
   "metadata": {},
   "source": [
    "Ques 6.)Draw following graph using matplotlib:"
   ]
  },
  {
   "cell_type": "code",
   "execution_count": 32,
   "metadata": {},
   "outputs": [
    {
     "data": {
      "image/png": "[encoded data removed]",
      "text/plain": [
       "<Figure size 432x288 with 1 Axes>"
      ]
     },
     "metadata": {
      "needs_background": "light"
     },
     "output_type": "display_data"
    }
   ],
   "source": [
    "import numpy as np\n",
    "import matplotlib.pyplot as plt\n",
    "plt.xlim(0,50)\n",
    "plt.ylim(0,160)\n",
    "x=[0,10,20,30,40,50]\n",
    "y=[0,30,60,90,120,150]\n",
    "plt.title(\"Draw a line\")\n",
    "plt.xlabel(\"x-axis\")\n",
    "plt.ylabel(\"y-axis\")\n",
    "plt.plot(x, y)\n",
    "plt.show()"
   ]
  },
  {
   "cell_type": "markdown",
   "metadata": {},
   "source": [
    "Ques 7.)Write a Pandas program to get the powers of an array values element-wise."
   ]
  },
  {
   "cell_type": "code",
   "execution_count": 26,
   "metadata": {},
   "outputs": [
    {
     "name": "stdout",
     "output_type": "stream",
     "text": [
      "Original Array :\n",
      "   X  Y  Z\n",
      "0  1  3  5\n",
      "1  2  4  6\n",
      "Element-wise power array\n",
      "   X    Y      Z\n",
      "0  1   27   3125\n",
      "1  4  256  46656\n"
     ]
    }
   ],
   "source": [
    "import pandas as pd \n",
    "df = pd.DataFrame({'X': [1,2], \n",
    "                   'Y': [3,4], \n",
    "                   'Z': [5,6]});   \n",
    "print (\"Original Array :\") \n",
    "print(df) \n",
    "power_array = df.pow(df) \n",
    "print (\"Element-wise power array\") \n",
    "print (power_array)"
   ]
  }
 ],
 "metadata": {
  "kernelspec": {
   "display_name": "Python 3",
   "language": "python",
   "name": "python3"
  },
  "language_info": {
   "codemirror_mode": {
    "name": "ipython",
    "version": 3
   },
   "file_extension": ".py",
   "mimetype": "text/x-python",
   "name": "python",
   "nbconvert_exporter": "python",
   "pygments_lexer": "ipython3",
   "version": "3.7.1"
  }
 },
 "nbformat": 4,
 "nbformat_minor": 2
}